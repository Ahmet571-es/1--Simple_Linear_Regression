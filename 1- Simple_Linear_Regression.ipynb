{
 "cells": [
  {
   "cell_type": "markdown",
   "id": "ee0f94e7",
   "metadata": {},
   "source": [
    "## Linear Regression : \n",
    "\n",
    "#### Korelasyon : \n",
    "Değişkenler arasındaki ilişkinin yönünü ve doğrusal eğimin gücünü bize verir. Yani bir artarken diğeri artıyor mu veya azalıyor mu bunu gösterir. -1 ve +1 arasında değerler alır. 0 dan büyükse pozitif yönlü, 0 dan küçükse negatif yönlü korelasyon var demektir. \n",
    "\n",
    "#### Linear Relationship : \n",
    "Değişkenlerin target arasında ki ilişki linear bir doğru hizasındaysa Linear relationship var demektir. Linear düz bir çizgi üzerinde olması önemlidir. \n",
    "Eğer tek future varsa linear basic regression, \n",
    "2 ve daha fazla future varsa Multiplinear regression demektir. \n",
    "Korelasyon ilişki -1 ve +1 arasında ki değerler ile ifade edilirken regression da bir line ile ifade edilir.\n",
    "\n",
    "### Linear Regression : \n",
    "Korelasyon üzerine çalışır, future ve target arasında ki ilişkiyi inceler ve o ilişkiye göre tahminleme de yapar.\n",
    "\n",
    "Yi = a + b*X ile ifade edilir. \n",
    "a burda sabit sayımız intercept, b ise coef yani X futuremiz çarptığımız kat sayıdır. Yi ise tahmin ettiğimiz değerlerdir. \n",
    "ei = Y - Yi => random error denir. gerçek değerlerden tahmin edilen değerler çıkarılarak bulunur. \n",
    "\n",
    "#### R2 score : \n",
    "0 ve 1 arasında değerler alır. Elimizdeki data ile tahmin ettmek istediğimiz değerleri ne kadar karşılıyoruz. 1 e yaklaştıkça tahminimşz oldukça başarılı olmuş demektir. 0 ise hep hatalı tahmnleme yaptık demektir. Regression modelin başarı durumunu gösterir. Eğer 1 tane target varsa r korelasyon değeri bulup onun karesini alıp R2 score bulunabilir. ama 2 ve daha fazla future varsa \n",
    "\n",
    "R2_score = ((Y - Y_pred)**2).sum() / ((Y - Y.mean())**2).sum()"
   ]
  },
  {
   "cell_type": "markdown",
   "id": "39be8cba",
   "metadata": {},
   "source": [
    "### İmport Library : "
   ]
  },
  {
   "cell_type": "code",
   "execution_count": 3,
   "id": "73905980",
   "metadata": {},
   "outputs": [],
   "source": [
    "import numpy as np\n",
    "import pandas as pd\n",
    "import matplotlib.pyplot as plt\n",
    "import seaborn as sns\n",
    "import scipy.stats as sts\n",
    "plt.rcParams[\"figure.figsize\"] = (10,6) # tüm görsellerin aynı boyutta olması için sabitledik.\n",
    "import warnings\n",
    "warnings.filterwarnings(\"ignore\") # verilen uyarıları notebook getirmesin"
   ]
  },
  {
   "cell_type": "markdown",
   "id": "25716842",
   "metadata": {},
   "source": [
    "### Read Dataset : "
   ]
  },
  {
   "cell_type": "code",
   "execution_count": 4,
   "id": "8164df3f",
   "metadata": {},
   "outputs": [
    {
     "data": {
      "text/html": [
       "<div>\n",
       "<style scoped>\n",
       "    .dataframe tbody tr th:only-of-type {\n",
       "        vertical-align: middle;\n",
       "    }\n",
       "\n",
       "    .dataframe tbody tr th {\n",
       "        vertical-align: top;\n",
       "    }\n",
       "\n",
       "    .dataframe thead th {\n",
       "        text-align: right;\n",
       "    }\n",
       "</style>\n",
       "<table border=\"1\" class=\"dataframe\">\n",
       "  <thead>\n",
       "    <tr style=\"text-align: right;\">\n",
       "      <th></th>\n",
       "      <th>TV</th>\n",
       "      <th>radio</th>\n",
       "      <th>newspaper</th>\n",
       "      <th>sales</th>\n",
       "    </tr>\n",
       "  </thead>\n",
       "  <tbody>\n",
       "    <tr>\n",
       "      <th>0</th>\n",
       "      <td>230.1</td>\n",
       "      <td>37.8</td>\n",
       "      <td>69.2</td>\n",
       "      <td>22.1</td>\n",
       "    </tr>\n",
       "    <tr>\n",
       "      <th>1</th>\n",
       "      <td>44.5</td>\n",
       "      <td>39.3</td>\n",
       "      <td>45.1</td>\n",
       "      <td>10.4</td>\n",
       "    </tr>\n",
       "    <tr>\n",
       "      <th>2</th>\n",
       "      <td>17.2</td>\n",
       "      <td>45.9</td>\n",
       "      <td>69.3</td>\n",
       "      <td>9.3</td>\n",
       "    </tr>\n",
       "    <tr>\n",
       "      <th>3</th>\n",
       "      <td>151.5</td>\n",
       "      <td>41.3</td>\n",
       "      <td>58.5</td>\n",
       "      <td>18.5</td>\n",
       "    </tr>\n",
       "    <tr>\n",
       "      <th>4</th>\n",
       "      <td>180.8</td>\n",
       "      <td>10.8</td>\n",
       "      <td>58.4</td>\n",
       "      <td>12.9</td>\n",
       "    </tr>\n",
       "  </tbody>\n",
       "</table>\n",
       "</div>"
      ],
      "text/plain": [
       "      TV  radio  newspaper  sales\n",
       "0  230.1   37.8       69.2   22.1\n",
       "1   44.5   39.3       45.1   10.4\n",
       "2   17.2   45.9       69.3    9.3\n",
       "3  151.5   41.3       58.5   18.5\n",
       "4  180.8   10.8       58.4   12.9"
      ]
     },
     "execution_count": 4,
     "metadata": {},
     "output_type": "execute_result"
    }
   ],
   "source": [
    "df = pd.read_csv(\"Advertising.csv\")\n",
    "df.head()\n",
    "# 200 satır ve 4 sutundan oluşan bir dataset\n",
    "# TV : bizim satış için TV den verdiğimiz reklam\n",
    "# radio : radiodan verdiğimiz reklamlar\n",
    "# newspaper : gazeteden verdiğimiz reklamlar.\n",
    "# sales : reklam giderleri sonucu elde ettiğimiz satış tutarı"
   ]
  },
  {
   "cell_type": "code",
   "execution_count": 5,
   "id": "92ce52b8",
   "metadata": {},
   "outputs": [
    {
     "data": {
      "text/plain": [
       "(200, 4)"
      ]
     },
     "execution_count": 5,
     "metadata": {},
     "output_type": "execute_result"
    }
   ],
   "source": [
    "df.shape"
   ]
  },
  {
   "cell_type": "code",
   "execution_count": 6,
   "id": "c3021a7c",
   "metadata": {},
   "outputs": [
    {
     "name": "stdout",
     "output_type": "stream",
     "text": [
      "<class 'pandas.core.frame.DataFrame'>\n",
      "RangeIndex: 200 entries, 0 to 199\n",
      "Data columns (total 4 columns):\n",
      " #   Column     Non-Null Count  Dtype  \n",
      "---  ------     --------------  -----  \n",
      " 0   TV         200 non-null    float64\n",
      " 1   radio      200 non-null    float64\n",
      " 2   newspaper  200 non-null    float64\n",
      " 3   sales      200 non-null    float64\n",
      "dtypes: float64(4)\n",
      "memory usage: 6.4 KB\n"
     ]
    }
   ],
   "source": [
    "df.info()\n",
    "# hiç null değerimiz yok. tüm değerlerimizin veri tipleri float64."
   ]
  },
  {
   "cell_type": "code",
   "execution_count": null,
   "id": "545b612f",
   "metadata": {},
   "outputs": [],
   "source": []
  },
  {
   "cell_type": "code",
   "execution_count": 7,
   "id": "9a1f06d7",
   "metadata": {},
   "outputs": [
    {
     "data": {
      "image/png": "[encoded data removed]",
      "text/plain": [
       "<Figure size 1440x1440 with 3 Axes>"
      ]
     },
     "metadata": {
      "needs_background": "light"
     },
     "output_type": "display_data"
    }
   ],
   "source": [
    "index = 0\n",
    "plt.figure(figsize=(20,20))\n",
    "for feature in df.columns:\n",
    "    if feature != \"sales\":\n",
    "        index += 1\n",
    "        plt.subplot(3,3,index)\n",
    "        sns.boxplot(df[feature])\n",
    "        # newspaper da biraz outlier var ama sonuca çok etki edecek sayıda değil."
   ]
  },
  {
   "cell_type": "code",
   "execution_count": 8,
   "id": "75f8c041",
   "metadata": {},
   "outputs": [
    {
     "data": {
      "text/html": [
       "<div>\n",
       "<style scoped>\n",
       "    .dataframe tbody tr th:only-of-type {\n",
       "        vertical-align: middle;\n",
       "    }\n",
       "\n",
       "    .dataframe tbody tr th {\n",
       "        vertical-align: top;\n",
       "    }\n",
       "\n",
       "    .dataframe thead th {\n",
       "        text-align: right;\n",
       "    }\n",
       "</style>\n",
       "<table border=\"1\" class=\"dataframe\">\n",
       "  <thead>\n",
       "    <tr style=\"text-align: right;\">\n",
       "      <th></th>\n",
       "      <th>count</th>\n",
       "      <th>mean</th>\n",
       "      <th>std</th>\n",
       "      <th>min</th>\n",
       "      <th>25%</th>\n",
       "      <th>50%</th>\n",
       "      <th>75%</th>\n",
       "      <th>max</th>\n",
       "    </tr>\n",
       "  </thead>\n",
       "  <tbody>\n",
       "    <tr>\n",
       "      <th>TV</th>\n",
       "      <td>200.0</td>\n",
       "      <td>147.0425</td>\n",
       "      <td>85.854236</td>\n",
       "      <td>0.7</td>\n",
       "      <td>74.375</td>\n",
       "      <td>149.75</td>\n",
       "      <td>218.825</td>\n",
       "      <td>296.4</td>\n",
       "    </tr>\n",
       "    <tr>\n",
       "      <th>radio</th>\n",
       "      <td>200.0</td>\n",
       "      <td>23.2640</td>\n",
       "      <td>14.846809</td>\n",
       "      <td>0.0</td>\n",
       "      <td>9.975</td>\n",
       "      <td>22.90</td>\n",
       "      <td>36.525</td>\n",
       "      <td>49.6</td>\n",
       "    </tr>\n",
       "    <tr>\n",
       "      <th>newspaper</th>\n",
       "      <td>200.0</td>\n",
       "      <td>30.5540</td>\n",
       "      <td>21.778621</td>\n",
       "      <td>0.3</td>\n",
       "      <td>12.750</td>\n",
       "      <td>25.75</td>\n",
       "      <td>45.100</td>\n",
       "      <td>114.0</td>\n",
       "    </tr>\n",
       "    <tr>\n",
       "      <th>sales</th>\n",
       "      <td>200.0</td>\n",
       "      <td>14.0225</td>\n",
       "      <td>5.217457</td>\n",
       "      <td>1.6</td>\n",
       "      <td>10.375</td>\n",
       "      <td>12.90</td>\n",
       "      <td>17.400</td>\n",
       "      <td>27.0</td>\n",
       "    </tr>\n",
       "  </tbody>\n",
       "</table>\n",
       "</div>"
      ],
      "text/plain": [
       "           count      mean        std  min     25%     50%      75%    max\n",
       "TV         200.0  147.0425  85.854236  0.7  74.375  149.75  218.825  296.4\n",
       "radio      200.0   23.2640  14.846809  0.0   9.975   22.90   36.525   49.6\n",
       "newspaper  200.0   30.5540  21.778621  0.3  12.750   25.75   45.100  114.0\n",
       "sales      200.0   14.0225   5.217457  1.6  10.375   12.90   17.400   27.0"
      ]
     },
     "execution_count": 8,
     "metadata": {},
     "output_type": "execute_result"
    }
   ],
   "source": [
    "df.describe().T\n",
    "# standart sapma > mean ise bir outlier tehlikesi olabilir. "
   ]
  },
  {
   "cell_type": "code",
   "execution_count": 9,
   "id": "05d86f80",
   "metadata": {},
   "outputs": [
    {
     "name": "stdout",
     "output_type": "stream",
     "text": [
      "newspaper tablosunda toplamda = 0 aykırı alt veri vardır.\n",
      "newspaper tablosunda toplamda = 2 aykırı üst veri vardır.\n"
     ]
    }
   ],
   "source": [
    "Q1 = df[\"newspaper\"].quantile(0.25)\n",
    "Q3 = df[\"newspaper\"].quantile(0.75)\n",
    "IQR = Q3-Q1\n",
    "alt_sinir = Q1-(1.5*IQR)\n",
    "ust_sinir = Q3+(1.5*IQR)\n",
    "aykiri_alt = df[\"newspaper\"] < alt_sinir\n",
    "aykiri_ust = df[\"newspaper\"] > ust_sinir\n",
    "print(\"newspaper tablosunda toplamda =\", df[\"newspaper\"][aykiri_alt].count(),\"aykırı alt veri vardır.\")\n",
    "print( \"newspaper tablosunda toplamda =\",df[\"newspaper\"][aykiri_ust].count(), \"aykırı üst veri vardır.\")\n",
    "#df[i][aykiri_alt] = alt_sinir\n",
    "#df[i][aykiri_ust] = ust_sinir"
   ]
  },
  {
   "cell_type": "code",
   "execution_count": 10,
   "id": "86bc4e9f",
   "metadata": {},
   "outputs": [
    {
     "name": "stdout",
     "output_type": "stream",
     "text": [
      "newspaper tablosu için belirlenen üst sınır =  93.625\n"
     ]
    },
    {
     "data": {
      "text/plain": [
       "16     114.0\n",
       "101    100.9\n",
       "Name: newspaper, dtype: float64"
      ]
     },
     "execution_count": 10,
     "metadata": {},
     "output_type": "execute_result"
    }
   ],
   "source": [
    "print(\"newspaper tablosu için belirlenen üst sınır = \", ust_sinir)\n",
    "df[\"newspaper\"][aykiri_ust]"
   ]
  },
  {
   "cell_type": "code",
   "execution_count": 11,
   "id": "8c7fb334",
   "metadata": {},
   "outputs": [
    {
     "data": {
      "image/png": "[encoded data removed]",
      "text/plain": [
       "<Figure size 720x432 with 1 Axes>"
      ]
     },
     "metadata": {
      "needs_background": "light"
     },
     "output_type": "display_data"
    }
   ],
   "source": [
    "# Eğer bağımsız değişkenim ve bağımlı değişkenim arasında kuvvetli korelasyon varsa anlamlı bir linear model vardır.\n",
    "df.corr()[\"sales\"].drop(\"sales\").sort_values().plot.barh();"
   ]
  },
  {
   "cell_type": "code",
   "execution_count": 12,
   "id": "03f8ecaa",
   "metadata": {},
   "outputs": [
    {
     "data": {
      "text/plain": [
       "newspaper    0.228299\n",
       "radio        0.576223\n",
       "TV           0.782224\n",
       "Name: sales, dtype: float64"
      ]
     },
     "execution_count": 12,
     "metadata": {},
     "output_type": "execute_result"
    }
   ],
   "source": [
    "df.corr()[\"sales\"].drop(\"sales\").sort_values()\n",
    "# target ile en yüksek korelasyona sahip future TV dir. en düşük ise newspaper futuremiz."
   ]
  },
  {
   "cell_type": "code",
   "execution_count": 13,
   "id": "ad38f862",
   "metadata": {},
   "outputs": [
    {
     "data": {
      "text/plain": [
       "<AxesSubplot:>"
      ]
     },
     "execution_count": 13,
     "metadata": {},
     "output_type": "execute_result"
    },
    {
     "data": {
      "image/png": "[encoded data removed]",
      "text/plain": [
       "<Figure size 720x432 with 2 Axes>"
      ]
     },
     "metadata": {
      "needs_background": "light"
     },
     "output_type": "display_data"
    }
   ],
   "source": [
    "df_corr = df.drop([\"sales\"], axis=1)\n",
    "sns.heatmap(df_corr.corr(), annot=True)\n",
    "# Tv ve radio arası korelasyo = 0.055 oldukça az bir ilişki var\n",
    "# TV ve newspaper arası korelasyon = 0.057 az ilişki var.\n",
    "# radio ve newspaper arası korelasyon ise = 0.35\n",
    "# MultiColinearty durumu yok."
   ]
  },
  {
   "cell_type": "code",
   "execution_count": 14,
   "id": "add23b9a",
   "metadata": {},
   "outputs": [
    {
     "data": {
      "text/html": [
       "<div>\n",
       "<style scoped>\n",
       "    .dataframe tbody tr th:only-of-type {\n",
       "        vertical-align: middle;\n",
       "    }\n",
       "\n",
       "    .dataframe tbody tr th {\n",
       "        vertical-align: top;\n",
       "    }\n",
       "\n",
       "    .dataframe thead th {\n",
       "        text-align: right;\n",
       "    }\n",
       "</style>\n",
       "<table border=\"1\" class=\"dataframe\">\n",
       "  <thead>\n",
       "    <tr style=\"text-align: right;\">\n",
       "      <th></th>\n",
       "      <th>TV</th>\n",
       "      <th>radio</th>\n",
       "      <th>newspaper</th>\n",
       "    </tr>\n",
       "  </thead>\n",
       "  <tbody>\n",
       "    <tr>\n",
       "      <th>TV</th>\n",
       "      <td>1.000000</td>\n",
       "      <td>0.054809</td>\n",
       "      <td>0.056648</td>\n",
       "    </tr>\n",
       "    <tr>\n",
       "      <th>radio</th>\n",
       "      <td>0.054809</td>\n",
       "      <td>1.000000</td>\n",
       "      <td>0.354104</td>\n",
       "    </tr>\n",
       "    <tr>\n",
       "      <th>newspaper</th>\n",
       "      <td>0.056648</td>\n",
       "      <td>0.354104</td>\n",
       "      <td>1.000000</td>\n",
       "    </tr>\n",
       "  </tbody>\n",
       "</table>\n",
       "</div>"
      ],
      "text/plain": [
       "                 TV     radio  newspaper\n",
       "TV         1.000000  0.054809   0.056648\n",
       "radio      0.054809  1.000000   0.354104\n",
       "newspaper  0.056648  0.354104   1.000000"
      ]
     },
     "execution_count": 14,
     "metadata": {},
     "output_type": "execute_result"
    }
   ],
   "source": [
    "df_corr.corr()"
   ]
  },
  {
   "cell_type": "code",
   "execution_count": 15,
   "id": "86e234e5",
   "metadata": {},
   "outputs": [
    {
     "name": "stdout",
     "output_type": "stream",
     "text": [
      "target ile TV sutunumuzun korelasyon durumu : 0.7822244248616061\n",
      "target ile radio sutunumuzun korelasyon durumu : 0.5762225745710551\n",
      "target ile newspaper sutunumuzun korelasyon durumu : 0.22829902637616528\n"
     ]
    }
   ],
   "source": [
    "for i in df.drop(columns = \"sales\") : \n",
    "    print(f\"target ile {i} sutunumuzun korelasyon durumu : {df.sales.corr(df[i])}\")"
   ]
  },
  {
   "cell_type": "code",
   "execution_count": 16,
   "id": "6e796d19",
   "metadata": {},
   "outputs": [
    {
     "name": "stdout",
     "output_type": "stream",
     "text": [
      "target ile TV sutunumuzun korelasyon durumu : 0.7822244248616061\n",
      "target ile radio sutunumuzun korelasyon durumu : 0.5762225745710551\n",
      "target ile newspaper sutunumuzun korelasyon durumu : 0.22829902637616528\n",
      "target ile total_spend sutunumuzun korelasyon durumu : 0.8677123027017427\n"
     ]
    }
   ],
   "source": [
    "# Bugün simple liear regression işlediğimiz için tek future olacak : \n",
    "df[\"total_spend\"] = df[\"TV\"] + df[\"radio\"] + df[\"newspaper\"]\n",
    "for i in df.drop(columns = \"sales\") : \n",
    "    print(f\"target ile {i} sutunumuzun korelasyon durumu : {df.sales.corr(df[i])}\")\n",
    "    # total_spend en yüksek çıktı."
   ]
  },
  {
   "cell_type": "code",
   "execution_count": 17,
   "id": "e3476a37",
   "metadata": {},
   "outputs": [
    {
     "data": {
      "image/png": "[encoded data removed]",
      "text/plain": [
       "<Figure size 720x432 with 1 Axes>"
      ]
     },
     "metadata": {
      "needs_background": "light"
     },
     "output_type": "display_data"
    }
   ],
   "source": [
    "sns.scatterplot(x = \"total_spend\", y = \"sales\", data=df);\n",
    "# total_spend deki değişim sales targetini ne kadar etkiliyor. işte bu durumu araştırmak regressiondur. "
   ]
  },
  {
   "cell_type": "code",
   "execution_count": 18,
   "id": "98c2fc7d",
   "metadata": {},
   "outputs": [
    {
     "data": {
      "image/png": "[encoded data removed]",
      "text/plain": [
       "<Figure size 360x360 with 1 Axes>"
      ]
     },
     "metadata": {
      "needs_background": "light"
     },
     "output_type": "display_data"
    }
   ],
   "source": [
    "sns.lmplot(x = \"total_spend\", y = \"sales\", data=df);\n",
    "# aralarında pozitif bir ilişki var."
   ]
  },
  {
   "cell_type": "code",
   "execution_count": 19,
   "id": "b28f42c5",
   "metadata": {},
   "outputs": [
    {
     "data": {
      "text/plain": [
       "0.8677123027017427"
      ]
     },
     "execution_count": 19,
     "metadata": {},
     "output_type": "execute_result"
    }
   ],
   "source": [
    "df[\"sales\"].corr(df[\"total_spend\"])"
   ]
  },
  {
   "cell_type": "code",
   "execution_count": 20,
   "id": "23dcc3a4",
   "metadata": {},
   "outputs": [],
   "source": [
    "df = df[[\"total_spend\",\"sales\"]]\n",
    "# simple linear regresyon işlediğimiz için tek futureye indirdik."
   ]
  },
  {
   "cell_type": "code",
   "execution_count": 21,
   "id": "316288f7",
   "metadata": {},
   "outputs": [
    {
     "data": {
      "text/plain": [
       "0.7529246402599608"
      ]
     },
     "execution_count": 21,
     "metadata": {},
     "output_type": "execute_result"
    }
   ],
   "source": [
    "# simple linear regression için R2 scoru : tek future varsa geçerlidir.\n",
    "# R2 : elimizdeki bağımsız değişkenler ile bağımlı değişkende ki değişimin oranını açıklar. yani target tahmin sutununu\n",
    "# tahmin etmek için elimdeki futurenin yeterli olma oranı. burda %75 tir.\n",
    "\n",
    "(df[\"sales\"].corr(df[\"total_spend\"]))**2"
   ]
  },
  {
   "cell_type": "markdown",
   "id": "da063f57",
   "metadata": {},
   "source": [
    "### Linear regression plot : "
   ]
  },
  {
   "cell_type": "code",
   "execution_count": 22,
   "id": "e39fb733",
   "metadata": {},
   "outputs": [
    {
     "data": {
      "image/png": "[encoded data removed]",
      "text/plain": [
       "<Figure size 720x432 with 1 Axes>"
      ]
     },
     "metadata": {
      "needs_background": "light"
     },
     "output_type": "display_data"
    }
   ],
   "source": [
    "sns.regplot(x = \"total_spend\", y = \"sales\", data=df, ci=True);\n",
    "# arkada linear regresyon denklemi ile futuredeki değerleri kullanarak bir tahmin değerleri oluşturuyor. sonra sales sutunundaki\n",
    "# değerlerden tahmin edilen değerleri çıkarıp karelerini alıp topluyor. en minimun line değeri hangisi ise best line olarak \n",
    "# dönüyor."
   ]
  },
  {
   "cell_type": "markdown",
   "id": "dedcab69",
   "metadata": {},
   "source": [
    "### Test train split : "
   ]
  },
  {
   "cell_type": "code",
   "execution_count": 23,
   "id": "b0eab23d",
   "metadata": {},
   "outputs": [],
   "source": [
    "X = df[[\"total_spend\"]]\n",
    "y = df[\"sales\"]\n",
    "# X dataframe, y ister dataframe ister seri olarak alabilirsiniz."
   ]
  },
  {
   "cell_type": "code",
   "execution_count": 24,
   "id": "1e72e69f",
   "metadata": {},
   "outputs": [],
   "source": [
    "from sklearn.model_selection import train_test_split"
   ]
  },
  {
   "cell_type": "code",
   "execution_count": 25,
   "id": "086f4d9a",
   "metadata": {},
   "outputs": [],
   "source": [
    "X_train, X_test, y_train, y_test = train_test_split(X, y, test_size = 0.2, random_state=42)\n",
    "# test için %20 sini verdik."
   ]
  },
  {
   "cell_type": "code",
   "execution_count": 26,
   "id": "2002b2f8",
   "metadata": {},
   "outputs": [
    {
     "data": {
      "text/plain": [
       "(160, 1)"
      ]
     },
     "execution_count": 26,
     "metadata": {},
     "output_type": "execute_result"
    }
   ],
   "source": [
    "X_train.shape"
   ]
  },
  {
   "cell_type": "code",
   "execution_count": 27,
   "id": "5bb21307",
   "metadata": {},
   "outputs": [
    {
     "data": {
      "text/plain": [
       "(40, 1)"
      ]
     },
     "execution_count": 27,
     "metadata": {},
     "output_type": "execute_result"
    }
   ],
   "source": [
    "X_test.shape"
   ]
  },
  {
   "cell_type": "markdown",
   "id": "ed0260c3",
   "metadata": {},
   "source": [
    "## Modelleme : \n",
    "\n",
    "Bu sefer sadece default değerler ile yapacağız."
   ]
  },
  {
   "cell_type": "code",
   "execution_count": 28,
   "id": "01fcf9d4",
   "metadata": {},
   "outputs": [],
   "source": [
    "from sklearn.linear_model import LinearRegression"
   ]
  },
  {
   "cell_type": "code",
   "execution_count": 29,
   "id": "b43ca0ba",
   "metadata": {},
   "outputs": [
    {
     "data": {
      "text/plain": [
       "LinearRegression()"
      ]
     },
     "execution_count": 29,
     "metadata": {},
     "output_type": "execute_result"
    }
   ],
   "source": [
    "model = LinearRegression()\n",
    "model.fit(X_train, y_train)"
   ]
  },
  {
   "cell_type": "code",
   "execution_count": 30,
   "id": "33195f69",
   "metadata": {},
   "outputs": [],
   "source": [
    "y_pred = model.predict(X_test)"
   ]
  },
  {
   "cell_type": "markdown",
   "id": "e2099414",
   "metadata": {},
   "source": [
    "### Skorlara Bakalım : "
   ]
  },
  {
   "cell_type": "code",
   "execution_count": 31,
   "id": "5f22458d",
   "metadata": {},
   "outputs": [],
   "source": [
    "from sklearn.metrics import r2_score, mean_absolute_error, mean_squared_error\n",
    "# r2 skor ve diğer 2 skorumuzu import ettik."
   ]
  },
  {
   "cell_type": "code",
   "execution_count": 32,
   "id": "8a75d28d",
   "metadata": {},
   "outputs": [],
   "source": [
    "def eval_metric(actual, pred):\n",
    "    mae = mean_absolute_error(actual, pred)\n",
    "    mse = mean_squared_error(actual, pred)\n",
    "    rmse = np.sqrt(mean_squared_error(actual, pred))\n",
    "    R2_score = r2_score(actual, pred)\n",
    "    print(\"Model testing performance:\")\n",
    "    print(\"--------------------------\")\n",
    "    print(f\"R2_score \\t: {R2_score}\")\n",
    "    print(f\"MAE \\t\\t: {mae}\")\n",
    "    print(f\"MSE \\t\\t: {mse}\")\n",
    "    print(f\"RMSE \\t\\t: {rmse}\")"
   ]
  },
  {
   "cell_type": "code",
   "execution_count": 33,
   "id": "91654d74",
   "metadata": {},
   "outputs": [
    {
     "name": "stdout",
     "output_type": "stream",
     "text": [
      "Model testing performance:\n",
      "--------------------------\n",
      "R2_score \t: 0.7535196255373879\n",
      "MAE \t\t: 2.0884273558466147\n",
      "MSE \t\t: 7.779806406885763\n",
      "RMSE \t\t: 2.789230432733331\n"
     ]
    }
   ],
   "source": [
    "eval_metric(y_test, y_pred)\n",
    "# %75 lik bir tahmileme başarısı var."
   ]
  },
  {
   "cell_type": "markdown",
   "id": "8b3282b0",
   "metadata": {},
   "source": [
    "### scale ederek skorlara bakalım : "
   ]
  },
  {
   "cell_type": "code",
   "execution_count": 34,
   "id": "74c670f3",
   "metadata": {},
   "outputs": [],
   "source": [
    "from sklearn.preprocessing import StandardScaler"
   ]
  },
  {
   "cell_type": "code",
   "execution_count": 35,
   "id": "e2a6f8ec",
   "metadata": {},
   "outputs": [
    {
     "name": "stdout",
     "output_type": "stream",
     "text": [
      "Model testing performance:\n",
      "--------------------------\n",
      "R2_score \t: 0.7535196255373879\n",
      "MAE \t\t: 2.0884273558466147\n",
      "MSE \t\t: 7.779806406885763\n",
      "RMSE \t\t: 2.789230432733331\n"
     ]
    }
   ],
   "source": [
    "scaler = StandardScaler()\n",
    "X_train_scaler = scaler.fit_transform(X_train)\n",
    "X_test_scaler = scaler.transform(X_test)\n",
    "model = LinearRegression()\n",
    "model.fit(X_train_scaler, y_train)\n",
    "y_pred_scaler = model.predict(X_test_scaler)\n",
    "eval_metric(y_test, y_pred_scaler)"
   ]
  },
  {
   "cell_type": "code",
   "execution_count": null,
   "id": "85f9d9e7",
   "metadata": {},
   "outputs": [],
   "source": []
  },
  {
   "cell_type": "code",
   "execution_count": 36,
   "id": "99f9bad3",
   "metadata": {},
   "outputs": [],
   "source": []
  },
  {
   "cell_type": "code",
   "execution_count": 37,
   "id": "3c899b47",
   "metadata": {},
   "outputs": [],
   "source": []
  },
  {
   "cell_type": "code",
   "execution_count": null,
   "id": "87024bcd",
   "metadata": {},
   "outputs": [],
   "source": []
  },
  {
   "cell_type": "code",
   "execution_count": null,
   "id": "07cb3703",
   "metadata": {},
   "outputs": [],
   "source": []
  },
  {
   "cell_type": "code",
   "execution_count": null,
   "id": "9d81493d",
   "metadata": {},
   "outputs": [],
   "source": []
  },
  {
   "cell_type": "code",
   "execution_count": null,
   "id": "9ea0ac76",
   "metadata": {},
   "outputs": [],
   "source": []
  },
  {
   "cell_type": "code",
   "execution_count": null,
   "id": "f7d20196",
   "metadata": {},
   "outputs": [],
   "source": []
  },
  {
   "cell_type": "code",
   "execution_count": null,
   "id": "315e465b",
   "metadata": {},
   "outputs": [],
   "source": []
  },
  {
   "cell_type": "markdown",
   "id": "f0a55e89",
   "metadata": {},
   "source": []
  },
  {
   "cell_type": "code",
   "execution_count": 58,
   "id": "2efe0b34",
   "metadata": {},
   "outputs": [],
   "source": []
  },
  {
   "cell_type": "code",
   "execution_count": null,
   "id": "12cff272",
   "metadata": {},
   "outputs": [],
   "source": []
  },
  {
   "cell_type": "code",
   "execution_count": null,
   "id": "a4b22fdc",
   "metadata": {},
   "outputs": [],
   "source": []
  },
  {
   "cell_type": "code",
   "execution_count": null,
   "id": "58df5191",
   "metadata": {},
   "outputs": [],
   "source": []
  },
  {
   "cell_type": "code",
   "execution_count": null,
   "id": "9d9f2c67",
   "metadata": {},
   "outputs": [],
   "source": []
  }
 ],
 "metadata": {
  "kernelspec": {
   "display_name": "Python 3 (ipykernel)",
   "language": "python",
   "name": "python3"
  },
  "language_info": {
   "codemirror_mode": {
    "name": "ipython",
    "version": 3
   },
   "file_extension": ".py",
   "mimetype": "text/x-python",
   "name": "python",
   "nbconvert_exporter": "python",
   "pygments_lexer": "ipython3",
   "version": "3.9.7"
  }
 },
 "nbformat": 4,
 "nbformat_minor": 5
}
